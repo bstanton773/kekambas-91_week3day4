{
 "cells": [
  {
   "cell_type": "code",
   "execution_count": 53,
   "metadata": {},
   "outputs": [],
   "source": [
    "from IPython.display import clear_output"
   ]
  },
  {
   "cell_type": "code",
   "execution_count": 44,
   "metadata": {},
   "outputs": [
    {
     "data": {
      "text/plain": [
       "True"
      ]
     },
     "execution_count": 44,
     "metadata": {},
     "output_type": "execute_result"
    }
   ],
   "source": [
    "4 == int(4)"
   ]
  },
  {
   "cell_type": "code",
   "execution_count": 84,
   "metadata": {},
   "outputs": [],
   "source": [
    "class Blog:\n",
    "    def __init__(self):\n",
    "        self.users = []\n",
    "        self.posts = []\n",
    "        self.current_user = None\n",
    "        \n",
    "    def _get_post_from_id(self, post_id):\n",
    "        for post in self.posts:\n",
    "            if post.id == int(post_id):\n",
    "                return post\n",
    "    \n",
    "    # Method to add a new user to our blog\n",
    "    def create_new_user(self):\n",
    "        # Get user info from user input\n",
    "        username = input('Please enter a username: ')\n",
    "        if username in {u.username for u in self.users}:\n",
    "            print(f\"User with username {username} already exists\")\n",
    "        else:\n",
    "            password = input('Please enter a password: ')\n",
    "            # Create a new User instance with info from input\n",
    "            new_user = User(username, password)\n",
    "            # Add user instance to list of users on blog\n",
    "            self.users.append(new_user)\n",
    "            print(f\"{new_user} has been created\")\n",
    "        \n",
    "    # Method to log a user in\n",
    "    def log_user_in(self):\n",
    "        # Get user info from user input\n",
    "        username = input('What is your username: ')\n",
    "        password = input('What is your password: ')\n",
    "        # Loop through the list of blog users\n",
    "        for user in self.users:\n",
    "            # Check if that user has the same username and password that were inputted\n",
    "            if user.username == username and user.check_password(password):\n",
    "                # If they do, set the blog's current user to that user and break\n",
    "                self.current_user = user\n",
    "                print(f\"{user} has been logged in\")\n",
    "                break\n",
    "        # If no users in our blog user list have the username and password then print it is incorrect\n",
    "        else:\n",
    "            print('Username and/or Password is incorrect')\n",
    "            \n",
    "    # Method to log a user out\n",
    "    def log_user_out(self):\n",
    "        self.current_user = None\n",
    "        print(\"You have successfully logged out.\")\n",
    "        \n",
    "    # Method to create a new blog post\n",
    "    def create_a_post(self):\n",
    "        # Check to make sure the user trying to create a post is logged in\n",
    "        if self.current_user is not None:\n",
    "            # Get title and body from user input\n",
    "            title = input('Enter the title of your post: ').title()\n",
    "            body = input('Enter the body of your post: ')\n",
    "            # Create a new Post instance with user input\n",
    "            new_post = Post(title, body, self.current_user)\n",
    "            # Add post object to list of blog posts\n",
    "            self.posts.append(new_post)\n",
    "            print(f\"{new_post.title} has been created.\")\n",
    "        else:\n",
    "            # If user is not logged in, print that they need to be\n",
    "            print('You must be logged in to perform this action')\n",
    "            \n",
    "    # Method to view all posts\n",
    "    def view_posts(self):\n",
    "        if self.posts:\n",
    "            for post in self.posts:\n",
    "                print(post)\n",
    "        else:\n",
    "            print(\"There are currently no posts for this blog :(\")\n",
    "            \n",
    "    # Method to view a single post\n",
    "    def view_post(self, post_id): \n",
    "        post = self._get_post_from_id(post_id)\n",
    "        if post:\n",
    "            print(post)\n",
    "        else:\n",
    "            print(f\"Post with an id of {post_id} does not exist\")\n",
    "            \n",
    "    # Method to edit a single post\n",
    "    def edit_post(self, post_id):\n",
    "        post_to_edit = self._get_post_from_id(post_id)\n",
    "        # Check that a post exists\n",
    "        if post_to_edit:\n",
    "            # Check that the user is logged in AND that the logged in user is author of post\n",
    "            if self.current_user is not None and self.current_user == post_to_edit.author:\n",
    "                print(post_to_edit)\n",
    "                # Ask user which part of the post they would like to edit\n",
    "                edit_part = input('Would you like to edit the title, body, both, or exit? ')\n",
    "                # Make sure the user chose an acceptable response\n",
    "                while edit_part not in {'title', 'body', 'both', 'exit'}:\n",
    "                    edit_part = input('Would you like to edit the title, body, both, or exit? ')\n",
    "                if edit_part == 'exit':\n",
    "                    return\n",
    "                elif edit_part == 'both':\n",
    "                    # Get new title and body \n",
    "                    new_title = input('Enter the new title: ')\n",
    "                    new_body = input('Enter the new body: ')\n",
    "                    post_to_edit.update(title=new_title, body=new_body)\n",
    "                elif edit_part == 'title':\n",
    "                    # Get new title \n",
    "                    new_title = input('Enter the new title: ')\n",
    "                    post_to_edit.update(title=new_title)\n",
    "                elif edit_part == 'body':\n",
    "                    # Get new body \n",
    "                    new_body = input('Enter the new body: ')\n",
    "                    post_to_edit.update(body=new_body)\n",
    "                print(f\"{post_to_edit.title} has been updated.\")\n",
    "            \n",
    "            # If not author but user logged in\n",
    "            elif self.current_user is not None:\n",
    "                print('You do not have permission to update this post')\n",
    "            # If not logged in at all\n",
    "            else:\n",
    "                print('You must be logged in to perform this action')\n",
    "        else:\n",
    "            print(f\"Post with an id of {post_id} does not exist.\")\n",
    "            \n",
    "    # Method to delete a post\n",
    "    def delete_post(self, post_id):\n",
    "        post_to_delete = self._get_post_from_id(post_id)\n",
    "        if post_to_delete:\n",
    "            # Check if user is logged in AND that user is author of the post to delete\n",
    "            if self.current_user and self.current_user == post_to_delete.author:\n",
    "                # Set blog post list to a new list of posts that does not include the post to delete \n",
    "                self.posts = [p for p in self.posts if p != post_to_delete]\n",
    "                print(f\"{post_to_delete.title} has been deleted\")   \n",
    "            # If not author but user logged in\n",
    "            elif self.current_user:\n",
    "                print('You do not have persmission to delete this post.')\n",
    "            # If not logged in at all\n",
    "            else:\n",
    "                print('You must be logged in to perform this action')\n",
    "        else:\n",
    "            print(f\"Post with an id of {post_id} does not exist.\")\n",
    "        \n",
    "        \n",
    "        \n",
    "class User:\n",
    "    \n",
    "    id_counter = 1\n",
    "    \n",
    "    def __init__(self, username, password):\n",
    "        self.username = username\n",
    "        self.password = password\n",
    "        self.id = User.id_counter\n",
    "        User.id_counter += 1\n",
    "        \n",
    "    def __str__(self):\n",
    "        return self.username\n",
    "    \n",
    "    def __repr__(self):\n",
    "        return f\"<User {self.id}|{self.username}>\"\n",
    "    \n",
    "    def check_password(self, password_to_check):\n",
    "        return self.password == password_to_check\n",
    "    \n",
    "    \n",
    "class Post:\n",
    "    \n",
    "    id_counter = 1\n",
    "    \n",
    "    def __init__(self, title, body, author):\n",
    "        \"\"\"\n",
    "        title -> str\n",
    "        body -> str\n",
    "        author -> User\n",
    "        \"\"\"\n",
    "        self.title = title\n",
    "        self.body = body\n",
    "        self.author = author\n",
    "        self.id = Post.id_counter\n",
    "        Post.id_counter += 1\n",
    "        \n",
    "    def __str__(self):\n",
    "        formatted_post = f\"\"\"\n",
    "        {self.id} - {self.title.title()}\n",
    "        By: {self.author}\n",
    "        {self.body}\n",
    "        \"\"\"\n",
    "        return formatted_post\n",
    "    \n",
    "    def __repr__(self):\n",
    "        return f\"<Post {self.id}|{self.title} by {self.author}>\"\n",
    "    \n",
    "    def update(self, **kwargs):\n",
    "        for key, value in kwargs.items():\n",
    "            if key in {'title', 'body'}:\n",
    "                setattr(self, key, value)\n",
    "    \n"
   ]
  },
  {
   "cell_type": "code",
   "execution_count": 86,
   "metadata": {},
   "outputs": [
    {
     "name": "stdout",
     "output_type": "stream",
     "text": [
      "Thanks for checking out our blog! Bye!\n"
     ]
    }
   ],
   "source": [
    "### Define function to run the blog\n",
    "def run_blog():\n",
    "    # Create an instance of the blog\n",
    "    my_blog = Blog()\n",
    "    # Keep looping while blog is 'running'\n",
    "    while True:\n",
    "        # if there is currently no user logged in\n",
    "        if my_blog.current_user is None:\n",
    "            print(\"1. Sign Up\\n2. Log In\\n3. View All Posts\\n4. View Single Post\\n5. Quit\")\n",
    "            to_do = input('What option would you like to do? ')\n",
    "            while to_do not in {'1', '5', '2', '3', '4'}:\n",
    "                to_do = input('Please choose either 1, 2, 3, 4 or 5 ')\n",
    "            clear_output()\n",
    "            if to_do == '5':\n",
    "                print('Thanks for checking out our blog! Bye!')\n",
    "                break\n",
    "            elif to_do == '1':\n",
    "                my_blog.create_new_user()\n",
    "            elif to_do == '2':\n",
    "                my_blog.log_user_in()\n",
    "            elif to_do == '3':\n",
    "                my_blog.view_posts()\n",
    "            elif to_do == '4':\n",
    "                post_id = input('What is the id of the post you would like to view? ')\n",
    "                my_blog.view_post(post_id)\n",
    "\n",
    "        # If there is a user logged in\n",
    "        else:\n",
    "            print(\"1. Log Out\\n2. Create A Post\\n3. View All Posts\\n4. View Single Post\\n5. Edit a Post\\n6. Delete a Post\")\n",
    "            to_do = input('What option would you like to do? ')\n",
    "            while to_do not in {'1', '2', '3', '4', '5', '6'}:\n",
    "                to_do = input('Please choose 1, 2, 3, 4, 5, or 6')\n",
    "            clear_output()\n",
    "            if to_do == '1':\n",
    "                my_blog.log_user_out()\n",
    "            elif to_do == '2':\n",
    "                my_blog.create_a_post()\n",
    "            elif to_do == '3':\n",
    "                my_blog.view_posts()\n",
    "            elif to_do == '4':\n",
    "                post_id = input('What is the id of the post you would like to view? ')\n",
    "                my_blog.view_post(post_id)\n",
    "            elif to_do == '5':\n",
    "                post_id = input('What is the id of the post you would like to edit? ')\n",
    "                my_blog.edit_post(post_id)\n",
    "            elif to_do == '6':\n",
    "                post_id = input('What is the id of the post you would like to delete? ')\n",
    "                my_blog.delete_post(post_id)\n",
    "                \n",
    "                \n",
    "# Execute the function\n",
    "run_blog()"
   ]
  },
  {
   "cell_type": "code",
   "execution_count": null,
   "metadata": {},
   "outputs": [],
   "source": []
  },
  {
   "cell_type": "code",
   "execution_count": null,
   "metadata": {},
   "outputs": [],
   "source": []
  },
  {
   "cell_type": "code",
   "execution_count": null,
   "metadata": {},
   "outputs": [],
   "source": []
  },
  {
   "cell_type": "code",
   "execution_count": null,
   "metadata": {},
   "outputs": [],
   "source": []
  },
  {
   "cell_type": "code",
   "execution_count": 60,
   "metadata": {},
   "outputs": [
    {
     "name": "stdout",
     "output_type": "stream",
     "text": [
      "Help on built-in function setattr in module builtins:\n",
      "\n",
      "setattr(obj, name, value, /)\n",
      "    Sets the named attribute on the given object to the specified value.\n",
      "    \n",
      "    setattr(x, 'y', v) is equivalent to ``x.y = v''\n",
      "\n"
     ]
    }
   ],
   "source": [
    "help(setattr)"
   ]
  },
  {
   "cell_type": "code",
   "execution_count": 63,
   "metadata": {},
   "outputs": [
    {
     "name": "stdout",
     "output_type": "stream",
     "text": [
      "{'name': 'Brian', 'city': 'Chicago'}\n",
      "{'name': 'Brian', 'city': 'Chicago'}\n"
     ]
    }
   ],
   "source": [
    "class Test:\n",
    "    pass\n",
    "\n",
    "\n",
    "x = Test()\n",
    "y = Test()\n",
    "\n",
    "x.name = 'Brian'\n",
    "x.city = 'Chicago'\n",
    "\n",
    "setattr(y, 'name', 'Brian')\n",
    "setattr(y, 'city', 'Chicago')\n",
    "\n",
    "print(x.__dict__)\n",
    "print(y.__dict__)"
   ]
  },
  {
   "cell_type": "code",
   "execution_count": 72,
   "metadata": {},
   "outputs": [
    {
     "name": "stdout",
     "output_type": "stream",
     "text": [
      "{'name': 'Brian', 'city': 'Chicago', 'age': 123, 'color': 'green', 'language': 'Python', 'abc': 456, 'test': 'this is a test'}\n",
      "{'name': 'Brian', 'city': 'Chicago', 'age': 123, 'color': 'green', 'language': 'Python', 'abc': 456, 'test': 'this is a test', 'height': 10, 'weight': 20}\n"
     ]
    }
   ],
   "source": [
    "def update_obj(some_obj, **kwargs):\n",
    "    print(some_obj.__dict__)\n",
    "    for key, value in kwargs.items():\n",
    "        setattr(some_obj, key, value)\n",
    "    print(some_obj.__dict__)\n",
    "        \n",
    "update_obj(x, height=10, weight=20)"
   ]
  },
  {
   "cell_type": "code",
   "execution_count": 74,
   "metadata": {},
   "outputs": [
    {
     "name": "stdout",
     "output_type": "stream",
     "text": [
      "20\n"
     ]
    }
   ],
   "source": [
    "print(x.weight)"
   ]
  }
 ],
 "metadata": {
  "kernelspec": {
   "display_name": "Python 3",
   "language": "python",
   "name": "python3"
  },
  "language_info": {
   "codemirror_mode": {
    "name": "ipython",
    "version": 3
   },
   "file_extension": ".py",
   "mimetype": "text/x-python",
   "name": "python",
   "nbconvert_exporter": "python",
   "pygments_lexer": "ipython3",
   "version": "3.8.5"
  }
 },
 "nbformat": 4,
 "nbformat_minor": 4
}
